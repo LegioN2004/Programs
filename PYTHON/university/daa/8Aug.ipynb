{
 "cells": [
  {
   "cell_type": "code",
   "execution_count": null,
   "id": "fc02cf22-6d64-4e15-bf3a-70a565217274",
   "metadata": {},
   "outputs": [
    {
     "name": "stdout",
     "output_type": "stream",
     "text": [
      "[18, 16, 14]\n",
      "[12, 10, 8]\n",
      "[6, 4, 28]\n"
     ]
    }
   ],
   "source": [
    "# Addition of two matrices\n",
    "\n",
    "A = [\n",
    "    [9, 8, 7],\n",
    "    [6, 5, 4],\n",
    "    [3, 2, 14]\n",
    "]\n",
    "\n",
    "B = [\n",
    "    [9, 8, 7],\n",
    "    [6, 5, 4],\n",
    "    [3, 2, 14]\n",
    "]\n",
    "\n",
    "result = []\n",
    "for i in range(len(A)):\n",
    "    row = []\n",
    "    for j in range(len(A[0])):\n",
    "        row.append(A[i][j] + B[i][j])\n",
    "    result.append(row)\n",
    "for r in result:\n",
    "    print(r)\n"
   ]
  },
  {
   "cell_type": "code",
   "execution_count": 2,
   "id": "216ef8b6-26b9-4011-9282-e6ceed2be67c",
   "metadata": {},
   "outputs": [
    {
     "name": "stdout",
     "output_type": "stream",
     "text": [
      "True\n"
     ]
    }
   ],
   "source": [
    "#check whether a character is a string or not\n",
    "\n",
    "def is_string_character(char):\n",
    "    return isinstance(char, str) and len(char) == 1\n",
    "\n",
    "print(is_string_character('a'))\n"
   ]
  },
  {
   "cell_type": "code",
   "execution_count": 7,
   "id": "ff6658ae-6695-43a9-90fd-4687689b3944",
   "metadata": {},
   "outputs": [
    {
     "name": "stdout",
     "output_type": "stream",
     "text": [
      "max num is: 5\n"
     ]
    }
   ],
   "source": [
    "arr = {1,2,3,4,5}\n",
    "max_num = max(arr)\n",
    "print(\"max num is:\", max_num)"
   ]
  },
  {
   "cell_type": "markdown",
   "id": "3a3daa4f",
   "metadata": {},
   "source": [
    "# second largest number in the list"
   ]
  },
  {
   "cell_type": "code",
   "execution_count": null,
   "id": "b8133bb7-7d44-4623-b99e-c39e7fe94de6",
   "metadata": {},
   "outputs": [
    {
     "name": "stdout",
     "output_type": "stream",
     "text": [
      "second lrgest number is:  40\n"
     ]
    }
   ],
   "source": [
    "#second largest number in a list\n",
    "numbers= [ 11, 40, 6,70,33]\n",
    "\n",
    "numbers.sort()\n",
    "print(\"second lrgest number is: \", numbers[-2])"
   ]
  },
  {
   "cell_type": "code",
   "execution_count": null,
   "id": "6a85999f-b4be-4893-8c47-d2f53ed92c49",
   "metadata": {},
   "outputs": [
    {
     "name": "stdout",
     "output_type": "stream",
     "text": [
      "Sorted list: [2, 3, 4, 5]\n",
      "2 is a prime number\n",
      "3 is a prime number\n",
      "4 is not a prime number\n",
      "5 is a prime number\n"
     ]
    }
   ],
   "source": [
    "# whether the number is prime or not in a given list\n",
    "numbers = [2, 3, 4, 5]\n",
    "\n",
    "numbers.sort()\n",
    "print(\"Sorted list:\", numbers)\n",
    "\n",
    "for num in numbers:\n",
    "    if num > 1:\n",
    "        is_prime = True\n",
    "        for i in range(2, int(num ** 0.5) + 1):\n",
    "            if num % i == 0:\n",
    "                is_prime = False\n",
    "                break\n",
    "        if is_prime:\n",
    "            print(f\"{num} is a prime number\")\n",
    "        else:\n",
    "            print(f\"{num} is not a prime number\")\n",
    "    else:\n",
    "        print(f\"{num} is not a prime number\")\n"
   ]
  },
  {
   "cell_type": "code",
   "execution_count": null,
   "id": "72988bbd-0271-41de-ad7f-b2915a4c8081",
   "metadata": {},
   "outputs": [
    {
     "name": "stdout",
     "output_type": "stream",
     "text": [
      "2 is prime\n",
      "3 is prime\n",
      "4 is not prime\n",
      "5 is prime\n"
     ]
    }
   ],
   "source": [
    "numbers = [2, 3, 4, 5]\n",
    "numbers.sort()\n",
    "\n",
    "for n in numbers:\n",
    "    print(f\"{n} is {'prime' if n > 1 and all(n % i for i in range(2, int(n**0.5)+1)) else 'not prime'}\")\n"
   ]
  },
  {
   "cell_type": "code",
   "execution_count": null,
   "id": "94256062-e8b6-4356-b79f-93f66f92130f",
   "metadata": {},
   "outputs": [
    {
     "name": "stdout",
     "output_type": "stream",
     "text": [
      "[150, 126, 193]\n",
      "[96, 81, 118]\n",
      "[81, 62, 225]\n"
     ]
    }
   ],
   "source": [
    "# Multiplication of two matrices\n",
    "\n",
    "A = [\n",
    "    [9, 8, 7],\n",
    "    [6, 5, 4],\n",
    "    [3, 2, 14]\n",
    "]\n",
    "\n",
    "B = [\n",
    "    [9, 8, 7],\n",
    "    [6, 5, 4],\n",
    "    [3, 2, 14]\n",
    "]\n",
    "\n",
    "result = []\n",
    "for i in range(len(A)):\n",
    "    row = []\n",
    "    for j in range(len(B[0])):\n",
    "        mul = 0\n",
    "        for k in range(len(B)):\n",
    "            mul += A[i][k] * B[k][j]\n",
    "        row.append(mul)\n",
    "    result.append(row)\n",
    "for r in result:\n",
    "    print(r)\n"
   ]
  }
 ],
 "metadata": {
  "kernelspec": {
   "display_name": "Python 3 (ipykernel)",
   "language": "python",
   "name": "python3"
  },
  "language_info": {
   "codemirror_mode": {
    "name": "ipython",
    "version": 3
   },
   "file_extension": ".py",
   "mimetype": "text/x-python",
   "name": "python",
   "nbconvert_exporter": "python",
   "pygments_lexer": "ipython3",
   "version": "3.13.5"
  }
 },
 "nbformat": 4,
 "nbformat_minor": 5
}
