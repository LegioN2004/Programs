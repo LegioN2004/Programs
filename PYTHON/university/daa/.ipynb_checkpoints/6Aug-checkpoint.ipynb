{
 "cells": [
  {
   "cell_type": "code",
   "execution_count": 5,
   "id": "8da63863-c201-49b3-94ed-0d435bd148ba",
   "metadata": {},
   "outputs": [
    {
     "name": "stdout",
     "output_type": "stream",
     "text": [
      "Enter a number:  12\n",
      "Enter second number:  25\n"
     ]
    },
    {
     "name": "stdout",
     "output_type": "stream",
     "text": [
      "sum is  37\n",
      "division is 0.48\n",
      "subtracson is -13\n",
      "multiplicason is  300\n"
     ]
    },
    {
     "data": {
      "text/plain": [
       "12"
      ]
     },
     "execution_count": 5,
     "metadata": {},
     "output_type": "execute_result"
    }
   ],
   "source": [
    "# addition\n",
    "num1 = int(input(\"Enter a number: \"))\n",
    "num2 = int(input(\"Enter second number: \"))\n",
    "\n",
    "print(\"sum is \", num1 + num2)\n",
    "\n",
    "print(\"division is\", num1 / num2)\n",
    "\n",
    "print(\"subtracson is\", num1 - num2)\n",
    "\n",
    "print(\"multiplicason is \", num1 * num2)\n",
    "\n",
    "max(num1, num2)\n",
    "min(num1, num2)"
   ]
  },
  {
   "cell_type": "code",
   "execution_count": 7,
   "id": "c0ec3c8b-fc2d-4368-9d39-3001b96e003e",
   "metadata": {},
   "outputs": [
    {
     "name": "stdout",
     "output_type": "stream",
     "text": [
      "120\n"
     ]
    }
   ],
   "source": [
    "num = 5\n",
    "fact = 1\n",
    "\n",
    "for i in range(1, num+1):\n",
    "    fact *= i\n",
    "\n",
    "print(fact)"
   ]
  },
  {
   "cell_type": "markdown",
   "id": "2ca33143-e6f0-4d18-9bae-afe996a10c0e",
   "metadata": {},
   "source": [
    "# sum of square of N natural numbers"
   ]
  },
  {
   "cell_type": "code",
   "execution_count": 12,
   "id": "272e4585-caf7-4c5a-9f22-63edb8cb9632",
   "metadata": {},
   "outputs": [
    {
     "name": "stdout",
     "output_type": "stream",
     "text": [
      "0\n"
     ]
    }
   ],
   "source": [
    "n = 2\n",
    "sum = 0\n",
    "for i in range(1, n + 1):\n",
    "    sum *= i * i\n",
    "\n",
    "print(sum)"
   ]
  },
  {
   "cell_type": "code",
   "execution_count": null,
   "id": "cebf3f56-3fed-4522-90b3-c6967d357c5e",
   "metadata": {},
   "outputs": [],
   "source": []
  },
  {
   "cell_type": "code",
   "execution_count": null,
   "id": "6bd2fb80-c18e-4e3e-87ad-69ebf27463ce",
   "metadata": {},
   "outputs": [],
   "source": []
  }
 ],
 "metadata": {
  "kernelspec": {
   "display_name": "Python 3 (ipykernel)",
   "language": "python",
   "name": "python3"
  },
  "language_info": {
   "codemirror_mode": {
    "name": "ipython",
    "version": 3
   },
   "file_extension": ".py",
   "mimetype": "text/x-python",
   "name": "python",
   "nbconvert_exporter": "python",
   "pygments_lexer": "ipython3",
   "version": "3.13.5"
  }
 },
 "nbformat": 4,
 "nbformat_minor": 5
}
