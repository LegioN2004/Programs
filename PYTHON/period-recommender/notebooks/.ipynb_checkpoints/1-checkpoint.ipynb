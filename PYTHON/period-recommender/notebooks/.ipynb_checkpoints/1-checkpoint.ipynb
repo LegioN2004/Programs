{
 "cells": [
  {
   "cell_type": "code",
   "execution_count": null,
   "id": "3169e454",
   "metadata": {},
   "outputs": [],
   "source": [
    "import pandas as pd"
   ]
  },
  {
   "cell_type": "markdown",
   "id": "6691174e",
   "metadata": {
    "lines_to_next_cell": 2
   },
   "source": [
    "this is a list but we'll convert this to series so that we can access some extra functionalities over lists, over being the same 1d array as lists.\n",
    "data = [1, 2, 3, 4, 5]\n",
    "index = ['a', 'b', 'c', 'd', 'e']\n",
    "\n",
    "series = pd.Series(data, index = index)\n",
    "print(series)"
   ]
  },
  {
   "cell_type": "code",
   "execution_count": null,
   "id": "7fd1a100",
   "metadata": {},
   "outputs": [],
   "source": [
    "data = pd.read_csv(\"sanitary_product_dataset.csv\")\n",
    "print(data.head())"
   ]
  },
  {
   "cell_type": "code",
   "execution_count": null,
   "id": "570cad2c",
   "metadata": {},
   "outputs": [],
   "source": [
    "print()"
   ]
  },
  {
   "cell_type": "code",
   "execution_count": null,
   "id": "9f07635e",
   "metadata": {},
   "outputs": [],
   "source": [
    "print(data.columns)"
   ]
  },
  {
   "cell_type": "code",
   "execution_count": null,
   "id": "7d8be7fc",
   "metadata": {},
   "outputs": [],
   "source": [
    "print()"
   ]
  },
  {
   "cell_type": "code",
   "execution_count": null,
   "id": "b29c6f92",
   "metadata": {},
   "outputs": [],
   "source": [
    "print(data.shape)"
   ]
  },
  {
   "cell_type": "code",
   "execution_count": null,
   "id": "0a7bb44a",
   "metadata": {},
   "outputs": [],
   "source": [
    "print()"
   ]
  },
  {
   "cell_type": "code",
   "execution_count": null,
   "id": "ccf4b278",
   "metadata": {},
   "outputs": [],
   "source": [
    "print(data['Product_Recommended'].head())"
   ]
  }
 ],
 "metadata": {
  "jupytext": {
   "cell_metadata_filter": "-all",
   "main_language": "python",
   "notebook_metadata_filter": "-all"
  }
 },
 "nbformat": 4,
 "nbformat_minor": 5
}
