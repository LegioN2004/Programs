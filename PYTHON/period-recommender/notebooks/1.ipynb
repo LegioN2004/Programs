{
 "cells": [
  {
   "cell_type": "code",
   "execution_count": 3,
   "id": "3169e454",
   "metadata": {},
   "outputs": [],
   "source": [
    "import pandas as pd"
   ]
  },
  {
   "cell_type": "markdown",
   "id": "6691174e",
   "metadata": {
    "lines_to_next_cell": 2
   },
   "source": [
    "this is a list but we'll convert this to series so that we can access some extra functionalities over lists, over being the same 1d array as lists.\n",
    "data = [1, 2, 3, 4, 5]\n",
    "index = ['a', 'b', 'c', 'd', 'e']\n",
    "\n",
    "series = pd.Series(data, index = index)\n",
    "print(series)"
   ]
  },
  {
   "cell_type": "code",
   "execution_count": 4,
   "id": "7fd1a100",
   "metadata": {},
   "outputs": [
    {
     "name": "stdout",
     "output_type": "stream",
     "text": [
      "   Age Flow_Level  Lifestyle  Budget Skin_Sensitivity Eco_Friendly_Preference  \\\n",
      "0   20      Light     Active  Medium              Yes                     Yes   \n",
      "1   18      Heavy   Moderate     Low              Yes                     Yes   \n",
      "2   45      Heavy  Sedentary    High              Yes                      No   \n",
      "3   30      Light  Sedentary    High               No                      No   \n",
      "4   26     Medium  Sedentary     Low               No                     Yes   \n",
      "\n",
      "  Comfort_Priority Product_Recommended  \n",
      "0              Low       Menstrual Cup  \n",
      "1              Low                 Pad  \n",
      "2              Low        Period Panty  \n",
      "3           Medium              Tampon  \n",
      "4           Medium        Reusable Pad  \n"
     ]
    }
   ],
   "source": [
    "data = pd.read_csv(\"sanitary_product_dataset.csv\")\n",
    "print(data.head())"
   ]
  },
  {
   "cell_type": "code",
   "execution_count": 5,
   "id": "570cad2c",
   "metadata": {},
   "outputs": [
    {
     "name": "stdout",
     "output_type": "stream",
     "text": [
      "\n"
     ]
    }
   ],
   "source": [
    "print()"
   ]
  },
  {
   "cell_type": "code",
   "execution_count": 6,
   "id": "9f07635e",
   "metadata": {},
   "outputs": [
    {
     "name": "stdout",
     "output_type": "stream",
     "text": [
      "Index(['Age', 'Flow_Level', 'Lifestyle', 'Budget', 'Skin_Sensitivity',\n",
      "       'Eco_Friendly_Preference', 'Comfort_Priority', 'Product_Recommended'],\n",
      "      dtype='object')\n"
     ]
    }
   ],
   "source": [
    "print(data.columns)"
   ]
  },
  {
   "cell_type": "code",
   "execution_count": 7,
   "id": "7d8be7fc",
   "metadata": {},
   "outputs": [
    {
     "name": "stdout",
     "output_type": "stream",
     "text": [
      "\n"
     ]
    }
   ],
   "source": [
    "print()"
   ]
  },
  {
   "cell_type": "code",
   "execution_count": 8,
   "id": "b29c6f92",
   "metadata": {},
   "outputs": [
    {
     "name": "stdout",
     "output_type": "stream",
     "text": [
      "(500, 8)\n"
     ]
    }
   ],
   "source": [
    "print(data.shape)"
   ]
  },
  {
   "cell_type": "code",
   "execution_count": 9,
   "id": "0a7bb44a",
   "metadata": {},
   "outputs": [
    {
     "name": "stdout",
     "output_type": "stream",
     "text": [
      "\n"
     ]
    }
   ],
   "source": [
    "print()"
   ]
  },
  {
   "cell_type": "code",
   "execution_count": 11,
   "id": "ccf4b278",
   "metadata": {},
   "outputs": [
    {
     "name": "stdout",
     "output_type": "stream",
     "text": [
      "a    Menstrual Cup\n",
      "b              Pad\n",
      "c     Period Panty\n",
      "d           Tampon\n",
      "e     Reusable Pad\n",
      "Name: Product_Recommended, dtype: object\n"
     ]
    }
   ],
   "source": [
    "s = data['Product_Recommended'].head()\n",
    "s.index = ['a', 'b', 'c', 'd', 'e']  # ensure there are at least 5 rows\n",
    "print(s)\n"
   ]
  },
  {
   "cell_type": "code",
   "execution_count": 13,
   "id": "099bbc48",
   "metadata": {},
   "outputs": [],
   "source": [
    "heavy_flow = data[data['Flow_Level'] == 'Heavy']"
   ]
  },
  {
   "cell_type": "code",
   "execution_count": 14,
   "id": "53431caf",
   "metadata": {},
   "outputs": [],
   "source": [
    "filtered = data[(data['Budget'] == 'High') & (data['Product_Recommended'] == 'Menstrual Cup')]"
   ]
  },
  {
   "cell_type": "code",
   "execution_count": null,
   "id": "4ce73ec0",
   "metadata": {},
   "outputs": [
    {
     "name": "stdout",
     "output_type": "stream",
     "text": [
      "Age                        0\n",
      "Flow_Level                 0\n",
      "Lifestyle                  0\n",
      "Budget                     0\n",
      "Skin_Sensitivity           0\n",
      "Eco_Friendly_Preference    0\n",
      "Comfort_Priority           0\n",
      "Product_Recommended        0\n",
      "dtype: int64\n",
      "Age                        0\n",
      "Flow_Level                 0\n",
      "Lifestyle                  0\n",
      "Budget                     0\n",
      "Skin_Sensitivity           0\n",
      "Eco_Friendly_Preference    0\n",
      "Comfort_Priority           0\n",
      "Product_Recommended        0\n",
      "dtype: int64\n"
     ]
    }
   ],
   "source": [
    "# Check if any value is missing\n",
    "print(data.isnull().sum())\n",
    "\n",
    "# Remove rows with missing values (if any)\n",
    "data_clean = data.dropna()\n",
    "print(data_clean.isnull().sum())"
   ]
  },
  {
   "cell_type": "code",
   "execution_count": 16,
   "id": "bea6066b",
   "metadata": {},
   "outputs": [
    {
     "ename": "AttributeError",
     "evalue": "'Series' object has no attribute 'avg'",
     "output_type": "error",
     "traceback": [
      "\u001b[31m---------------------------------------------------------------------------\u001b[39m",
      "\u001b[31mAttributeError\u001b[39m                            Traceback (most recent call last)",
      "\u001b[32m/var/folders/yr/r2qtpz515d99ldjcl8f5kgrm0000gn/T/ipykernel_66235/4269955787.py\u001b[39m in \u001b[36m?\u001b[39m\u001b[34m()\u001b[39m\n\u001b[32m----> \u001b[39m\u001b[32m1\u001b[39m print(data[\u001b[33m'Age'\u001b[39m].avg());\n",
      "\u001b[32m~/ghq/github.com/legion2004/Programs/PYTHON/period-recommender/venv/lib/python3.13/site-packages/pandas/core/generic.py\u001b[39m in \u001b[36m?\u001b[39m\u001b[34m(self, name)\u001b[39m\n\u001b[32m   6317\u001b[39m             \u001b[38;5;28;01mand\u001b[39;00m name \u001b[38;5;28;01mnot\u001b[39;00m \u001b[38;5;28;01min\u001b[39;00m self._accessors\n\u001b[32m   6318\u001b[39m             \u001b[38;5;28;01mand\u001b[39;00m self._info_axis._can_hold_identifiers_and_holds_name(name)\n\u001b[32m   6319\u001b[39m         ):\n\u001b[32m   6320\u001b[39m             \u001b[38;5;28;01mreturn\u001b[39;00m self[name]\n\u001b[32m-> \u001b[39m\u001b[32m6321\u001b[39m         \u001b[38;5;28;01mreturn\u001b[39;00m object.__getattribute__(self, name)\n",
      "\u001b[31mAttributeError\u001b[39m: 'Series' object has no attribute 'avg'"
     ]
    }
   ],
   "source": [
    "print(data['Age'].avg());"
   ]
  }
 ],
 "metadata": {
  "jupytext": {
   "cell_metadata_filter": "-all",
   "main_language": "python",
   "notebook_metadata_filter": "-all"
  },
  "kernelspec": {
   "display_name": "venv",
   "language": "python",
   "name": "python3"
  },
  "language_info": {
   "codemirror_mode": {
    "name": "ipython",
    "version": 3
   },
   "file_extension": ".py",
   "mimetype": "text/x-python",
   "name": "python",
   "nbconvert_exporter": "python",
   "pygments_lexer": "ipython3",
   "version": "3.13.7"
  }
 },
 "nbformat": 4,
 "nbformat_minor": 5
}
